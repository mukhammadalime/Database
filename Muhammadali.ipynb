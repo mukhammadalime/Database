{
  "cells": [
    {
      "cell_type": "code",
      "execution_count": 1,
      "id": "8ef28f16",
      "metadata": {
        "id": "8ef28f16"
      },
      "outputs": [],
      "source": [
        "pip install mysql-connector-python"
      ]
    },
    {
      "cell_type": "code",
      "execution_count": null,
      "id": "b76cb921",
      "metadata": {
        "id": "b76cb921"
      },
      "outputs": [],
      "source": [
        "import mysql.connector"
      ]
    },
    {
      "cell_type": "code",
      "execution_count": null,
      "id": "0706d8cb",
      "metadata": {
        "id": "0706d8cb"
      },
      "outputs": [],
      "source": [
        "mydb=mysql.connector.connect(host=\"3306\",user=\"root\",password=\"2001\")\n",
        "\n",
        "mycursor=mydb.cursor()\n",
        "\n"
      ]
    },
    {
      "cell_type": "code",
      "execution_count": null,
      "id": "0fcaa065",
      "metadata": {
        "id": "0fcaa065"
      },
      "outputs": [],
      "source": [
        "mycursor.execute(\"CREATE DATABASE Muhammadalidb\")"
      ]
    },
    {
      "cell_type": "code",
      "execution_count": null,
      "id": "9cde7ad4",
      "metadata": {
        "id": "9cde7ad4"
      },
      "outputs": [],
      "source": [
        "mydb=mysql.connector.connect(host=\"3306\",user=\"root\",password=\"2001\", database=\"Muhammadalidb\")\n",
        "\n",
        "\n",
        "mycursor=mydb.cursor()\n",
        "\n"
      ]
    },
    {
      "cell_type": "code",
      "execution_count": null,
      "id": "39092672",
      "metadata": {
        "id": "39092672"
      },
      "outputs": [],
      "source": [
        "mycursor=mydb.cursor()\n",
        "mycursor.execute(\"CREATE TABLE cars(Condition VARCHAR(10), Vehicle_number INTEGER(5), Registration_number INTEGER(8))\")\n"
      ]
    },
    {
      "cell_type": "code",
      "execution_count": null,
      "id": "1d803ca3",
      "metadata": {
        "id": "1d803ca3"
      },
      "outputs": [],
      "source": [
        "mycursor.execute(\"ALTER TABLE Vehicles ADD manufact VARCHAR(30)\")\n",
        "mycursor.execute(\"ALTER TABLE Vehicles ADD model VARCHAR(15)\")\n",
        "mycursor.execute(\"ALTER TABLE Vehicles ADD color VARCHAR(15)\")\n",
        "mycursor.execute(\"ALTER TABLE Vehicles ADD Current_Od INTEGER(6)\")\n",
        "mycursor.execute(\"ALTER TABLE Vehicles ADD Desc VARCHAR(50)\")"
      ]
    },
    {
      "cell_type": "code",
      "execution_count": null,
      "id": "3513f1a6",
      "metadata": {
        "id": "3513f1a6"
      },
      "outputs": [],
      "source": [
        "mycursor.execute(\"ALTER TABLE Vehicles ADD Dates VARCHAR(10)\")"
      ]
    },
    {
      "cell_type": "code",
      "execution_count": null,
      "id": "d8013dea",
      "metadata": {
        "id": "d8013dea"
      },
      "outputs": [],
      "source": [
        "assets=\"INSERT INTO Vehicles(Condition, Vehicle_number, Registration_number, manufact, Model, Color, Current_Od, Desc, Date) VALUES(%s,%s,%s,%s,%s,%s,%s,%s,%s)\"\n",
        "Vehicles=[(\"R\",'V1999',\"123 ABC\",'Volvo','Games','Blue', '170000',\"Tire repair\", '2021/11/23'),\n",
        "         ('M','W2020',\"234 BCD\",'Chevralet','Cruize','Red', '184999',\"Oil Levels\", '2021/03/14')]\n",
        "mycursor.executemany(assets, Vehicles)\n",
        "mydb.commit()"
      ]
    },
    {
      "cell_type": "code",
      "execution_count": null,
      "id": "767f8b16",
      "metadata": {
        "id": "767f8b16"
      },
      "outputs": [],
      "source": [
        "mycursor.execute(\"CREATE TABLE countries(names VARCHAR(30), lan VARCHAR(3))\")\n"
      ]
    },
    {
      "cell_type": "code",
      "execution_count": null,
      "id": "8990711b",
      "metadata": {
        "id": "8990711b"
      },
      "outputs": [],
      "source": [
        "info = \"INSERT INTO countries(country, lan) VALUES(%s, %s)\"\n",
        "Partisipant_Countries = [(\"Afghanistan\", \"AF\"),\n",
        "                        (\"United Arab Emirates\", \"UA\")\n",
        "                        (\"Yemen\", \"YE\"),\n",
        "                        (\"South Korea\", \"KR\")]\n",
        "mycursor.executemany(info, Partisipant_Countries)\n",
        "mydb.commit()"
      ]
    },
    {
      "cell_type": "code",
      "execution_count": null,
      "id": "38df212d",
      "metadata": {
        "id": "38df212d"
      },
      "outputs": [],
      "source": [
        "mycursor.execute(\"CREATE TABLE officials(Name VARCHAR(25), id INTEGER(8), Name VARCHAR(30), Pos VARCHAR(20), Lang VARCHAR(20))\")\n"
      ]
    },
    {
      "cell_type": "code",
      "execution_count": null,
      "id": "38658dc6",
      "metadata": {
        "id": "38658dc6"
      },
      "outputs": [],
      "source": [
        "info = \"INSERT INTO officials(Name, id, Name, Pos, Lang) VALUES(%s, %s, %s, %s, %s)\"\n",
        "Officials = [\n",
        "                         (\"Singapore\", \"44490257\", \"Omar\", \"Couch\", \"English\"),\n",
        "                         (\"Oman\", \"55590257\", \"Amr\", \"Couch\", \"English\"),\n",
        "                         (\"Qatar\", \"66690257\", \"Abdulrohman\", \"Couch\", \"Arabic\"),\n",
        "                         (\"Qatar\", \"66690257\", \"Abu Bakr\", \"Couch\", \"English\"),]\n",
        "mycursor.executemany(info, Officials)\n",
        "mydb.commit()\n"
      ]
    },
    {
      "cell_type": "code",
      "execution_count": 2,
      "id": "2133128e",
      "metadata": {
        "id": "2133128e"
      },
      "outputs": [],
      "source": [
        "mycursor=mydb.cursor()\n",
        "mycursor.execute(\"CREATE TABLE Drivers(D_name VARCHAR(20),L_Number INTEGER(18))\")\n",
        "mycursor.execute(\"ALTER TABLE Drivers ADD Cl_Level INTEGER(1)\")\n",
        "\n",
        "mycursor.execute(\"ALTER TABLE Drivers ADD fatl_Test VARCHAR(3)\")\n",
        "mycursor.execute(\"ALTER TABLE Drivers ADD fatl_Level INTEGER(2)\")\n",
        "\n",
        "mycursor.execute(\"ALTER TABLE Drivers ADD STLVT_Test VARCHAR(3)\")\n",
        "mycursor.execute(\"ALTER TABLE Drivers ADD STLVT_Level INTEGER(2)\")\n",
        "mycursor.execute(\"ALTER TABLE Drivers ADD STLVTQ_Date VARCHAR(10)\")\n",
        "mycursor.execute(\"ALTER TABLE Drivers ADD STLVT_Authority VARCHAR(50)\")\n",
        "mycursor.execute(\"ALTER TABLE Drivers ADD Driver_Languages VARCHAR(70)\")\n",
        "#"
      ]
    },
    {
      "cell_type": "code",
      "execution_count": null,
      "id": "1aa86aa8",
      "metadata": {
        "id": "1aa86aa8"
      },
      "outputs": [],
      "source": [
        "mycursor.execute(\"ALTER TABLE Drivers ADD l_Number VARCHAR(20)\")\n"
      ]
    },
    {
      "cell_type": "code",
      "execution_count": null,
      "id": "5a8e1b7a",
      "metadata": {
        "id": "5a8e1b7a"
      },
      "outputs": [],
      "source": [
        "sql='''INSERT INTO Drivers(D_name,Cl_Level,FATL_Test,FATL_Level,FATLQ_Date,STLVT_Test,STLVT_Level,STLVTQ_Date,STLVT_Authority,Driver_Languages,L_Number)\n",
        "VALUES(%s, %s, %s, %s, %s, %s, %s, %s, %s, %s, %s)'''\n",
        "for d in range(6):\n",
        "    name = input(\"Name: \")\n",
        "    clearance_l = int(input(\"Clearance Level: \"))\n",
        "    fatl_t = input(\"FATL Test: \")\n",
        "    fatl_l = input(\"FATL Level: \")\n",
        "    fatlq_d = input(\"FATL qualification Date: \")\n",
        "    stlvt_test = input(\"STLVT Test: \")\n",
        "    stlvt_l = input(\"STLVT Level: \")\n",
        "    stlvtq_d = input(\"STLVT qualification Date: \")\n",
        "    stlvt_a = input(\"STLVT Authority: \") \n",
        "    drivers_lan = input(\"Language: \")\n",
        "    licence_n = input(\"Licence No: \")\n",
        "\n",
        "    Drivers = [(name, clearance_l, fatl_t, fatl_l, fatlq_d, stlvt_test, stlvt_l, stlvtq_d, stlvt_a, drivers_lan, licence_n)]\n",
        "    mycursor.executemany(sql, Drivers)\n",
        "mydb.commit() \n"
      ]
    },
    {
      "cell_type": "code",
      "execution_count": null,
      "id": "b22efdda",
      "metadata": {
        "id": "b22efdda"
      },
      "outputs": [],
      "source": [
        "mycursor.execute(\"ALTER TABLE Partisipant_Officials ADD Assigned_Drivers VARCHAR(20)\")"
      ]
    },
    {
      "cell_type": "code",
      "execution_count": null,
      "id": "35f52e77",
      "metadata": {
        "id": "35f52e77",
        "outputId": "1606c1aa-0850-45c3-ceea-8ed21fcdc8df"
      },
      "outputs": [
        {
          "ename": "ProgrammingError",
          "evalue": "Not all parameters were used in the SQL statement",
          "output_type": "error",
          "traceback": [
            "\u001b[0;31m---------------------------------------------------------------------------\u001b[0m",
            "\u001b[0;31mProgrammingError\u001b[0m                          Traceback (most recent call last)",
            "\u001b[0;32m/var/folders/h0/crl6sc694s7dhmjf7zj6_nfm0000gn/T/ipykernel_57091/337837381.py\u001b[0m in \u001b[0;36m<module>\u001b[0;34m\u001b[0m\n\u001b[1;32m     27\u001b[0m \u001b[0;34m\u001b[0m\u001b[0m\n\u001b[1;32m     28\u001b[0m \u001b[0;34m\u001b[0m\u001b[0m\n\u001b[0;32m---> 29\u001b[0;31m \u001b[0mmycursor\u001b[0m\u001b[0;34m.\u001b[0m\u001b[0mexecute\u001b[0m\u001b[0;34m(\u001b[0m\u001b[0mOfficials_info\u001b[0m\u001b[0;34m,\u001b[0m \u001b[0mname\u001b[0m\u001b[0;34m)\u001b[0m\u001b[0;34m\u001b[0m\u001b[0;34m\u001b[0m\u001b[0m\n\u001b[0m\u001b[1;32m     30\u001b[0m \u001b[0mmydb\u001b[0m\u001b[0;34m.\u001b[0m\u001b[0mcommit\u001b[0m\u001b[0;34m(\u001b[0m\u001b[0;34m)\u001b[0m\u001b[0;34m\u001b[0m\u001b[0;34m\u001b[0m\u001b[0m\n",
            "\u001b[0;32m~/opt/anaconda3/lib/python3.9/site-packages/mysql/connector/cursor.py\u001b[0m in \u001b[0;36mexecute\u001b[0;34m(self, operation, params, multi)\u001b[0m\n\u001b[1;32m    547\u001b[0m                 \u001b[0mstmt\u001b[0m \u001b[0;34m=\u001b[0m \u001b[0mRE_PY_PARAM\u001b[0m\u001b[0;34m.\u001b[0m\u001b[0msub\u001b[0m\u001b[0;34m(\u001b[0m\u001b[0mpsub\u001b[0m\u001b[0;34m,\u001b[0m \u001b[0mstmt\u001b[0m\u001b[0;34m)\u001b[0m\u001b[0;34m\u001b[0m\u001b[0;34m\u001b[0m\u001b[0m\n\u001b[1;32m    548\u001b[0m                 \u001b[0;32mif\u001b[0m \u001b[0mpsub\u001b[0m\u001b[0;34m.\u001b[0m\u001b[0mremaining\u001b[0m \u001b[0;34m!=\u001b[0m \u001b[0;36m0\u001b[0m\u001b[0;34m:\u001b[0m\u001b[0;34m\u001b[0m\u001b[0;34m\u001b[0m\u001b[0m\n\u001b[0;32m--> 549\u001b[0;31m                     raise ProgrammingError(\n\u001b[0m\u001b[1;32m    550\u001b[0m                         \u001b[0;34m\"Not all parameters were used in the SQL statement\"\u001b[0m\u001b[0;34m\u001b[0m\u001b[0;34m\u001b[0m\u001b[0m\n\u001b[1;32m    551\u001b[0m                     )\n",
            "\u001b[0;31mProgrammingError\u001b[0m: Not all parameters were used in the SQL statement"
          ]
        }
      ],
      "source": [
        "Officials_info = \"INSERT INTO Partisipant_Officials(Assigned_Drivers) VALUES(%s)\"\n",
        "Partisipant_Officials = [\n",
        "                         (\"Ugvey\"),\n",
        "                         (\"Po\"),\n",
        "                         (\"Ugvey\"),\n",
        "                         (\"Po\"),\n",
        "                         \n",
        "\n",
        "\n",
        ",\n",
        "\n",
        "    \n",
        "    mycursor.execute(Officials_info, name)\n",
        "mydb.commit()\n"
      ]
    },
    {
      "cell_type": "code",
      "execution_count": null,
      "id": "b2282e2d",
      "metadata": {
        "id": "b2282e2d"
      },
      "outputs": [],
      "source": [
        "SELECT * FROM Partisipant_Officials;"
      ]
    },
    {
      "cell_type": "code",
      "execution_count": null,
      "id": "3c5ee0a0",
      "metadata": {
        "id": "3c5ee0a0"
      },
      "outputs": [],
      "source": [
        "mycursor.execute(\"CREATE TABLE droffnames(Officials_names VARCHAR(20),Drivers_names VARCHAR(20))\")"
      ]
    },
    {
      "cell_type": "code",
      "execution_count": null,
      "id": "cc5c9f35",
      "metadata": {
        "id": "cc5c9f35"
      },
      "outputs": [],
      "source": [
        "sql_command = \"INSERT INTO DRnames (Officials_names,Drivers_names) VALUES(%s,%s)\"\n",
        "Partisipant_Officials = [(\"Abdulaziz\",\"Jony\"),\n",
        "                         (\"Abdulazeez\",\"Ugvey\"),\n",
        "                         (\"Abdullakh\",\"Ugvey\"),\n",
        "                         (\"Ali\",\"Ugvey\"),\n",
        "                        ]\n",
        "mycursor.executemany(DRnames, Partisipant_Officials)\n",
        "mydb.commit()"
      ]
    },
    {
      "cell_type": "code",
      "execution_count": null,
      "id": "369d4304",
      "metadata": {
        "id": "369d4304"
      },
      "outputs": [],
      "source": [
        "mycursor.execute(\"CREATE TABLE Trips(Start  INTEGER(20),End INTEGER(18),Booking_num INTEGER(18),pick_up VARCHAR(18),drop_off VARCHAR(20),type VARCHAR(18))\")# licence number should have 18 characters\n"
      ]
    },
    {
      "cell_type": "code",
      "execution_count": null,
      "id": "6bc62278",
      "metadata": {
        "id": "6bc62278"
      },
      "outputs": [],
      "source": [
        "s=\"INSERT INTO Trips(Start,End,Booking_num,pick_up,drop_off,type) VALUES(%s,%s,%s,%s,%s,%s)\"\n",
        "list=[\n",
        "         (20230102,20230203,94565,\"Behind bank\", \"Beside M\", \"Police station\"),\n",
        "         (20230205,20230406,67543,\"Back street\", \"MK street\",\"Hospital\"),\n",
        "  ]\n",
        "mycursor.executemany(s,list)\n",
        "mydb.commit()"
      ]
    },
    {
      "cell_type": "code",
      "execution_count": null,
      "id": "842e870e",
      "metadata": {
        "id": "842e870e"
      },
      "outputs": [],
      "source": []
    }
  ],
  "metadata": {
    "kernelspec": {
      "display_name": "Python 3 (ipykernel)",
      "language": "python",
      "name": "python3"
    },
    "language_info": {
      "codemirror_mode": {
        "name": "ipython",
        "version": 3
      },
      "file_extension": ".py",
      "mimetype": "text/x-python",
      "name": "python",
      "nbconvert_exporter": "python",
      "pygments_lexer": "ipython3",
      "version": "3.9.13"
    },
    "colab": {
      "provenance": []
    }
  },
  "nbformat": 4,
  "nbformat_minor": 5
}