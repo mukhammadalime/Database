{
  "nbformat": 4,
  "nbformat_minor": 0,
  "metadata": {
    "colab": {
      "provenance": [],
      "include_colab_link": true
    },
    "kernelspec": {
      "name": "python3",
      "display_name": "Python 3"
    },
    "language_info": {
      "name": "python"
    }
  },
  "cells": [
    {
      "cell_type": "markdown",
      "metadata": {
        "id": "view-in-github",
        "colab_type": "text"
      },
      "source": [
        "<a href=\"https://colab.research.google.com/github/mukhammadalime/Database/blob/main/WEEK6.ipynb\" target=\"_parent\"><img src=\"https://colab.research.google.com/assets/colab-badge.svg\" alt=\"Open In Colab\"/></a>"
      ]
    },
    {
      "cell_type": "code",
      "execution_count": null,
      "metadata": {
        "id": "md1xfvdXV-Qv"
      },
      "outputs": [],
      "source": [
        "from sqlalchemy import create_engine\n",
        "my_conn = create_engine (\"sqlite:////content/my_db.db\")"
      ]
    },
    {
      "cell_type": "code",
      "source": [
        "r_set=my_conn.execute('''SELECT name from sqlite_master\n",
        "    WHERE type = 'table' ''')\n",
        "for row in r_set:\n",
        "    print(row)"
      ],
      "metadata": {
        "colab": {
          "base_uri": "https://localhost:8080/"
        },
        "id": "9CBGDUjoV_eM",
        "outputId": "b5e321af-a3e8-4ba2-b677-1e10387a41b0"
      },
      "execution_count": null,
      "outputs": [
        {
          "output_type": "stream",
          "name": "stdout",
          "text": [
            "('category',)\n",
            "('subcategory',)\n",
            "('student',)\n"
          ]
        }
      ]
    },
    {
      "cell_type": "code",
      "source": [
        "r_set=my_conn.execute('''SELECT * from student''');\n",
        "for row in r_set:\n",
        "  print(row)\n"
      ],
      "metadata": {
        "colab": {
          "base_uri": "https://localhost:8080/"
        },
        "id": "l4qGLZZUf4HZ",
        "outputId": "0a060c6f-17ec-44cb-e766-989eb134c8f5"
      },
      "execution_count": null,
      "outputs": [
        {
          "output_type": "stream",
          "name": "stdout",
          "text": [
            "(1, 'John Deo', 'Four', 75, 'female')\n",
            "(2, 'Max Ruin', 'Three', 85, 'male')\n",
            "(3, 'Arnold', 'Three', 55, 'male')\n",
            "(4, 'Krish Star', 'Four', 60, 'female')\n",
            "(5, 'John Mike', 'Four', 60, 'female')\n",
            "(6, 'Alex John', 'Four', 55, 'male')\n",
            "(7, 'My John Rob', 'Five', 78, 'male')\n",
            "(8, 'Asruid', 'Five', 85, 'male')\n",
            "(9, 'Tes Qry', 'Six', 78, 'male')\n",
            "(10, 'Big John', 'Four', 55, 'female')\n",
            "(11, 'Ronald', 'Six', 89, 'female')\n",
            "(12, 'Recky', 'Six', 94, 'female')\n",
            "(13, 'Kty', 'Seven', 88, 'female')\n",
            "(14, 'Bigy', 'Seven', 88, 'female')\n",
            "(15, 'Tade Row', 'Four', 88, 'male')\n",
            "(16, 'Gimmy', 'Four', 88, 'male')\n",
            "(17, 'Tumyu', 'Six', 54, 'male')\n",
            "(18, 'Honny', 'Five', 75, 'male')\n",
            "(19, 'Tinny', 'Nine', 18, 'male')\n",
            "(20, 'Jackly', 'Nine', 65, 'female')\n",
            "(21, 'Babby John', 'Four', 69, 'female')\n",
            "(22, 'Reggid', 'Seven', 55, 'female')\n",
            "(23, 'Herod', 'Eight', 79, 'male')\n",
            "(24, 'Tiddy Now', 'Seven', 78, 'male')\n",
            "(25, 'Giff Tow', 'Seven', 88, 'male')\n",
            "(26, 'Crelea', 'Seven', 79, 'male')\n",
            "(27, 'Big Nose', 'Three', 81, 'female')\n",
            "(28, 'Rojj Base', 'Seven', 86, 'female')\n",
            "(29, 'Tess Played', 'Seven', 55, 'male')\n",
            "(30, 'Reppy Red', 'Six', 79, 'female')\n",
            "(31, 'Marry Toeey', 'Four', 88, 'male')\n",
            "(32, 'Binn Rott', 'Seven', 90, 'female')\n",
            "(33, 'Kenn Rein', 'Six', 96, 'female')\n",
            "(34, 'Gain Toe', 'Seven', 69, 'male')\n",
            "(35, 'Rows Noump', 'Six', 88, 'female')\n"
          ]
        }
      ]
    },
    {
      "cell_type": "code",
      "source": [
        "#select record based on id \n",
        "q=\"SELECT id, name, class, mark, sex FROM student WHERE id=8 \"\n",
        "my_cursor=my_conn.execute(q)\n",
        "data_row=my_cursor.fetchone()\n",
        "#print(type(data_row))\n",
        "print(data_row[0],data_row[1],data_row[3])"
      ],
      "metadata": {
        "colab": {
          "base_uri": "https://localhost:8080/"
        },
        "id": "LdYFgdVLgqiH",
        "outputId": "dc0c5b68-82fd-48be-b924-7490ba0edbf6"
      },
      "execution_count": null,
      "outputs": [
        {
          "output_type": "stream",
          "name": "stdout",
          "text": [
            "8 Asruid 85\n"
          ]
        }
      ]
    },
    {
      "cell_type": "code",
      "source": [
        "#show 10 records only\n",
        "q=\"SELECT id, name, class, mark, sex FROM student limit 0,10 \"\n",
        "my_cursor=my_conn.execute(q)\n",
        "data_row=my_cursor.fetchone()\n",
        "print(type(data_row))\n",
        "print(\"No of records : \",len(data_row))\n",
        "for row in data_row:\n",
        "  print(row)\n"
      ],
      "metadata": {
        "colab": {
          "base_uri": "https://localhost:8080/"
        },
        "id": "-jZoUreFhd_E",
        "outputId": "0edcefff-8c06-4603-d530-79e27ca1a104"
      },
      "execution_count": null,
      "outputs": [
        {
          "output_type": "stream",
          "name": "stdout",
          "text": [
            "<class 'sqlalchemy.engine.row.LegacyRow'>\n",
            "No of records :  5\n",
            "1\n",
            "John Deo\n",
            "Four\n",
            "75\n",
            "female\n"
          ]
        },
        {
          "output_type": "stream",
          "name": "stderr",
          "text": [
            "ERROR:sqlalchemy.pool.impl.NullPool:Exception during reset or similar\n",
            "Traceback (most recent call last):\n",
            "  File \"/usr/local/lib/python3.7/dist-packages/sqlalchemy/pool/base.py\", line 753, in _finalize_fairy\n",
            "    fairy._reset(pool)\n",
            "  File \"/usr/local/lib/python3.7/dist-packages/sqlalchemy/pool/base.py\", line 1004, in _reset\n",
            "    pool._dialect.do_rollback(self)\n",
            "  File \"/usr/local/lib/python3.7/dist-packages/sqlalchemy/engine/default.py\", line 683, in do_rollback\n",
            "    dbapi_connection.rollback()\n",
            "sqlite3.ProgrammingError: SQLite objects created in a thread can only be used in that same thread. The object was created in thread id 140020639205248 and this is thread id 140020216674048.\n",
            "ERROR:sqlalchemy.pool.impl.NullPool:Exception closing connection <sqlite3.Connection object at 0x7f58f5598b90>\n",
            "Traceback (most recent call last):\n",
            "  File \"/usr/local/lib/python3.7/dist-packages/sqlalchemy/pool/base.py\", line 753, in _finalize_fairy\n",
            "    fairy._reset(pool)\n",
            "  File \"/usr/local/lib/python3.7/dist-packages/sqlalchemy/pool/base.py\", line 1004, in _reset\n",
            "    pool._dialect.do_rollback(self)\n",
            "  File \"/usr/local/lib/python3.7/dist-packages/sqlalchemy/engine/default.py\", line 683, in do_rollback\n",
            "    dbapi_connection.rollback()\n",
            "sqlite3.ProgrammingError: SQLite objects created in a thread can only be used in that same thread. The object was created in thread id 140020639205248 and this is thread id 140020216674048.\n",
            "\n",
            "During handling of the above exception, another exception occurred:\n",
            "\n",
            "Traceback (most recent call last):\n",
            "  File \"/usr/local/lib/python3.7/dist-packages/sqlalchemy/pool/base.py\", line 255, in _close_connection\n",
            "    self._dialect.do_terminate(connection)\n",
            "  File \"/usr/local/lib/python3.7/dist-packages/sqlalchemy/engine/default.py\", line 689, in do_terminate\n",
            "    self.do_close(dbapi_connection)\n",
            "  File \"/usr/local/lib/python3.7/dist-packages/sqlalchemy/engine/default.py\", line 692, in do_close\n",
            "    dbapi_connection.close()\n",
            "sqlite3.ProgrammingError: SQLite objects created in a thread can only be used in that same thread. The object was created in thread id 140020639205248 and this is thread id 140020216674048.\n"
          ]
        }
      ]
    }
  ]
}